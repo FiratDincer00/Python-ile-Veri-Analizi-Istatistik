{
  "cells": [
    {
      "cell_type": "markdown",
      "source": [
        "# **Değişkenler ve Değişken Türleri**\n",
        "\n",
        "İstatistikte, \"değişkenler\" bir araştırma veya analizde incelenen özellikler veya ölçümlerdir. Bu değişkenler, bir araştırma sorusuna cevap bulmamıza veya bir hipotezi test etmemize olanak tanıyan verileri sağlar. Değişkenler, genellikle değişiklik gösterebilen veya farklı değerler alabilen özelliklerdir.\n",
        "\n",
        "Değişkenler, genellikle farklı türlerde sınıflandırılır:\n",
        "\n",
        "**1.Nicel Değişkenler (Kantitatif Değişkenler)**: Bu tür değişkenler sayısal değerler alır. Örneğin, bir kişinin yaşını, gelirini veya bir ürünün fiyatını ölçmek için kullanılabilirler.\n",
        "\n",
        "*  Sayma ve ölçme ile elde edilirler.\n",
        "*  Sayılarla ifade edilirler.\n",
        "*  Objektif bir ölçü birimiyle ölçülürler.\n",
        "*  Bir gözlemden diğerine derece yönünden farklılık gösterirler.\n",
        "*  Eşit aralıklı (interval) ve oranlı (ratio) ölçeklerde kullanılırlar.\n",
        "* Büyüklük sıraları bellidir.\n",
        "\n",
        "**2.Nitel Değişkenler (Kalitatif Değişkenler):** Bu değişkenler kategorik veya sınıfsal değerler alır. Örneğin, cinsiyet, medeni durum veya bir ürünün markası gibi özellikler nitel değişkenlerdir.\n",
        "\n",
        "*  Sayma ve ölçme ile elde edilemezler.\n",
        "*  Kelimelerle ifade edilirler.\n",
        "*  Objektif bir ölçü birimiyle ölçülemezler.\n",
        "*  Tür ve çeşit yönünden farklılık gösterirler.\n",
        "*  Sınıflayıcı (nominal) ve sıralayıcı (ordinal) ölçeklerde kullanılır.\n",
        "*  Genelde büyüklük sıraları yoktur."
      ],
      "metadata": {
        "id": "YEUBUFAml2GK"
      }
    },
    {
      "cell_type": "code",
      "source": [
        "# Nicel Değişkenler\n",
        "yas = 30\n",
        "gelir = 50000.0\n",
        "fiyatlar = [10.99, 20.49, 15.99, 25.0]\n",
        "\n",
        "# Nitel Değişkenler\n",
        "cinsiyet = 'erkek'\n",
        "medeni_durum = 'evli'\n",
        "renkler = ['mavi', 'kırmızı', 'yeşil']\n"
      ],
      "metadata": {
        "id": "YLXM5jAJl4pe"
      },
      "execution_count": null,
      "outputs": []
    },
    {
      "cell_type": "markdown",
      "source": [
        "# **İstatistikte Ölçek Türleri**\n",
        "\n",
        "**Değişkenler ayrıca ölçüm seviyelerine göre de sınıflandırılabilir:**\n",
        "\n",
        "**1.Sınıflama (İsimsel-Nominal) Değişkenler:** Bu değişkenler kategorik olarak sınıflandırılır ve herhangi bir sıralama içermez. Örneğin, göz rengi veya ülke adı gibi.\n",
        "\n",
        "**2.Sıralama (Ordinal) Değişkenler:** Bu değişkenler belirli bir sıralamaya göre sınıflandırılır. Ancak, aralarındaki farkın ne kadar olduğu hakkında bilgi vermezler. Örneğin, eğitim seviyesi veya memnuniyet derecesi gibi.\n",
        "\n",
        "**3.Aralıklı Değişkenler:** Bu değişkenler, eşit aralıklarla ölçülen ancak mutlak bir sıfır noktası olmayan değerler alır. Örneğin, sıcaklık veya yıl gibi.\n",
        "\n",
        "**4.Oran Değişkenler:** Bu değişkenler, mutlak bir sıfır noktası olan ve eşit aralıklarla ölçülen değerlerdir. Örneğin, gelir veya yaş gibi. Bu sınıflandırmalar, veri analizinde değişkenlerin doğasını ve nasıl ele alınacağını anlamak için kullanılır."
      ],
      "metadata": {
        "id": "klGoNfkrUfAq"
      }
    },
    {
      "cell_type": "code",
      "source": [
        "# Nominal Değişkenler\n",
        "ulke = 'Türkiye'\n",
        "sehir = 'İstanbul'\n",
        "\n",
        "# Ordinal Değişkenler\n",
        "egitim_seviyesi = 'lisans'\n",
        "memnuniyet_derecesi = 'iyi'\n",
        "\n",
        "# Aralıklı Değişkenler\n",
        "sicaklik = 25.5\n",
        "dogum_yili = 1990\n",
        "\n",
        "# Oran Değişkenler\n",
        "gelir_orani = 0.75\n",
        "yas_orani = 2.5"
      ],
      "metadata": {
        "id": "Kenjlei5VVUF"
      },
      "execution_count": null,
      "outputs": []
    }
  ],
  "metadata": {
    "colab": {
      "toc_visible": true,
      "provenance": []
    },
    "kernelspec": {
      "display_name": "Python 3",
      "name": "python3"
    }
  },
  "nbformat": 4,
  "nbformat_minor": 0
}