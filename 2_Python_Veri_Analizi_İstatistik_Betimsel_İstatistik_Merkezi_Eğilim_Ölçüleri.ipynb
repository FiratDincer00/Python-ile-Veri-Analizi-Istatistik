{
  "nbformat": 4,
  "nbformat_minor": 0,
  "metadata": {
    "colab": {
      "provenance": []
    },
    "kernelspec": {
      "name": "python3",
      "display_name": "Python 3"
    },
    "language_info": {
      "name": "python"
    }
  },
  "cells": [
    {
      "cell_type": "markdown",
      "source": [
        "# **Betimsel İstatistik**\n",
        "\n",
        "**Betimsel istatistik**, veri setlerini tanımlamak, özetlemek ve anlamak için kullanılan istatistiksel tekniklerin bir alt kümesidir. Temel amacı, veri setinin yapısal özelliklerini açıklamak ve özetlemektir, ancak genellikle verilerin derinlemesine analizine veya sonuçlar arasında neden-sonuç ilişkilerini çıkarmaya odaklanmaz.\n",
        "\n",
        "Betimsel istatistiğin temel amacı, veri setinde bulunan bilgileri basit, anlaşılır ve özlü bir şekilde sunmaktır. Bu nedenle, betimsel istatistik, çeşitli özetleme tekniklerini kullanarak merkezi eğilim, dağılım, yayılım ve ilişki gibi temel özellikleri inceleyerek veri setinin genel yapısını tanımlar.\n",
        "\n",
        "*Betimsel istatistikte kullanılan bazı yaygın teknikler şunlardır:*\n",
        "\n",
        "*  **Merkezi Eğilim Ölçütleri:** Veri setinin merkezini temsil eden değerlerdir. Örneğin, ortalama (mean), medyan (median) ve mod (mode) gibi.\n",
        "*  **Dağılım Ölçütleri:** Veri setinin ne kadar homojen veya heterojen olduğunu gösteren ölçütlerdir. Örneğin, standart sapma (standard deviation), varyans (variance) gibi.\n",
        "*  **Yayılım Ölçütleri:** Veri setinin dağılımının ne kadar geniş olduğunu veya yoğun olduğunu gösteren ölçütlerdir. Örneğin, minimum ve maksimum değerler, çeyrekler (quartiles), yüzdelikler (percentiles) gibi.\n",
        "*  **Grafiksel Özetler:** Veri setini görsel olarak temsil etmek için kullanılan grafiklerdir. Örneğin, histogramlar, çizgi grafikleri, kutu grafikleri gibi."
      ],
      "metadata": {
        "id": "f-ToHPftbxE5"
      }
    },
    {
      "cell_type": "code",
      "execution_count": null,
      "metadata": {
        "colab": {
          "base_uri": "https://localhost:8080/"
        },
        "id": "gpccEYfWaMQ_",
        "outputId": "e6abcc81-0020-469c-d4f2-69d9b72b9363"
      },
      "outputs": [
        {
          "output_type": "stream",
          "name": "stdout",
          "text": [
            "Merkezi Eğilim Ölçütleri:\n",
            "Ortalama: 50.43\n",
            "Medyan: 46.5\n",
            "Mod: 28\n",
            "\n",
            "Dağılım Ölçütleri:\n",
            "Standart Sapma: 29.208990054433585\n",
            "Varyans: 853.1651\n",
            "\n",
            "Yayılım Ölçütleri:\n",
            "Minimum: 1\n",
            "Maksimum: 99\n",
            "Çeyrekler:\n",
            "1. Çeyrek (Q1): 27.0\n",
            "2. Çeyrek (Q2): 46.5\n",
            "3. Çeyrek (Q3): 79.25\n"
          ]
        }
      ],
      "source": [
        "import numpy as np\n",
        "\n",
        "# Örnek veri seti oluşturalım\n",
        "veri_seti = np.random.randint(0, 100, 100)  # 0 ile 100 arasında 100 adet rastgele sayı\n",
        "\n",
        "# Merkezi eğilim ölçütleri\n",
        "ortalama = np.mean(veri_seti)\n",
        "medyan = np.median(veri_seti)\n",
        "mod = np.argmax(np.bincount(veri_seti))  # En sık tekrar eden değer\n",
        "\n",
        "# Dağılım ölçütleri\n",
        "standart_sapma = np.std(veri_seti)\n",
        "varyans = np.var(veri_seti)\n",
        "\n",
        "# Yayılım ölçütleri\n",
        "minimum = np.min(veri_seti)\n",
        "maksimum = np.max(veri_seti)\n",
        "c1, c2, c3 = np.percentile(veri_seti, [25, 50, 75])  # Çeyrekler\n",
        "\n",
        "# Veri setinin özetlenmiş bilgilerini yazdırma\n",
        "print(\"Merkezi Eğilim Ölçütleri:\")\n",
        "print(\"Ortalama:\", ortalama)\n",
        "print(\"Medyan:\", medyan)\n",
        "print(\"Mod:\", mod)\n",
        "\n",
        "print(\"\\nDağılım Ölçütleri:\")\n",
        "print(\"Standart Sapma:\", standart_sapma)\n",
        "print(\"Varyans:\", varyans)\n",
        "\n",
        "print(\"\\nYayılım Ölçütleri:\")\n",
        "print(\"Minimum:\", minimum)\n",
        "print(\"Maksimum:\", maksimum)\n",
        "print(\"Çeyrekler:\")\n",
        "print(\"1. Çeyrek (Q1):\", c1)\n",
        "print(\"2. Çeyrek (Q2):\", c2)\n",
        "print(\"3. Çeyrek (Q3):\", c3)\n"
      ]
    },
    {
      "cell_type": "markdown",
      "source": [
        "# **Merkezi Eğilim Ölçütleri: Aritmetik Ortalama**\n",
        "\n",
        "**Aritmetik ortalama**, bir veri kümesindeki tüm değerlerin toplamının, veri kümesindeki değerlerin sayısına bölünmesiyle elde edilen ortalama değerdir. Bu, veri setinin merkezi bir eğilim ölçüsüdür ve genellikle veri setinin temsil ettiği genel değeri yansıtmak için kullanılır."
      ],
      "metadata": {
        "id": "zRz0H-bBevTl"
      }
    },
    {
      "cell_type": "code",
      "source": [
        "import numpy as np\n",
        "\n",
        "# Örnek veri seti\n",
        "veri_seti = [5, 8, 10, 12, 6, 9, 11, 14, 7]\n",
        "\n",
        "# Aritmetik ortalama hesaplama\n",
        "ortalama = np.mean(veri_seti)\n",
        "\n",
        "print(\"Aritmetik ortalama:\", ortalama)\n"
      ],
      "metadata": {
        "id": "W0kV2-CqfSuJ"
      },
      "execution_count": null,
      "outputs": []
    },
    {
      "cell_type": "markdown",
      "source": [
        "# **Merkezi Eğilim Ölçütleri: Medyan**\n",
        "\n",
        "**Medyan**, bir veri kümesindeki değerlerin sıralandığında ortadaki değeri ifade eder. Eğer veri kümesindeki eleman sayısı tek ise, medyan direkt olarak ortadaki değer olur. Ancak, eleman sayısı çift ise, medyan iki ortadaki değerin aritmetik ortalaması olarak hesaplanır.\n",
        "\n",
        "Medyan, bir veri setinin merkezi eğilimini belirlemek için kullanılan bir ölçüdür ve aykırı değerlerin etkisini azaltmada aritmetik ortalamaya kıyasla daha dirençlidir.\n",
        "\n",
        "*Veri kümesindeki değerlerin sıralanması ve medyanın bulunması için bir algoritma şu adımları izler:*\n",
        "\n",
        "*  Veri kümesini sırala.\n",
        "*  Eğer veri kümesindeki eleman sayısı tek ise, ortadaki değer medyandır.\n",
        "*  Eğer veri kümesindeki eleman sayısı çift ise, ortadaki iki değerin aritmetik ortalaması medyandır.\n",
        "\n",
        "Not: Veri setinde uç değerlerin sıklığı az ise, medyan daha sağlıklı sonuçlar verebilir. Ancak, uç değerlerin sıklığı fazlaysa, aritmetik ortalama daha doğru sonuçlar verebilir."
      ],
      "metadata": {
        "id": "ITesmHFKfXM3"
      }
    },
    {
      "cell_type": "code",
      "source": [
        "import numpy as np\n",
        "\n",
        "# Örnek veri seti\n",
        "veri_seti = [5, 8, 10, 12, 6, 9, 11, 13, 7]\n",
        "\n",
        "# Medyan hesaplama\n",
        "medyan = np.median(veri_seti)\n",
        "\n",
        "print(\"Medyan:\", medyan)\n"
      ],
      "metadata": {
        "id": "Q0q01NsCiVH_",
        "colab": {
          "base_uri": "https://localhost:8080/"
        },
        "outputId": "a48916be-b674-4c51-88c3-1cdccc30a4db"
      },
      "execution_count": 10,
      "outputs": [
        {
          "output_type": "stream",
          "name": "stdout",
          "text": [
            "Medyan: 9.0\n"
          ]
        }
      ]
    },
    {
      "cell_type": "markdown",
      "source": [
        "# **Merkezi Eğilim Ölçütleri: Mod**\n",
        "\n",
        "**Mod**, bir veri kümesinde en sık tekrar eden değeri ifade eder. Veri setindeki mod değeri, veri kümesindeki değerlerin sıklığını belirleyerek bulunur. Mod, bir veri kümesinin merkezi eğilimini tanımlamak için kullanılır ve genellikle kategorik veya sınıflandırılmış verilerle çalışırken özellikle faydalıdır.\n",
        "\n",
        "Veri kümesinde birden fazla mod olabilir (eşit sıklıkla tekrar eden değerler). Aynı zamanda, bir veri kümesinde hiç mod olmayabilir (tüm değerler eşit sıklıkla tekrar eder).\n",
        "\n",
        "Python'da modu hesaplamak için birkaç farklı yol bulunmaktadır. Örneğin, statistics modülündeki **mode()** fonksiyonu kullanılabilir veya NumPy kütüphanesindeki **np.argmax()** fonksiyonu kullanılarak hesaplanabilir.\n",
        "\n"
      ],
      "metadata": {
        "id": "Xs9P8lgLGRln"
      }
    },
    {
      "cell_type": "code",
      "source": [
        "import numpy as np\n",
        "\n",
        "# Örnek veri seti\n",
        "veri_seti = [5, 8, 10, 12, 6, 9, 11, 14, 7, 8, 8]\n",
        "\n",
        "# Mod hesaplama\n",
        "mod = np.argmax(np.bincount(veri_seti))\n",
        "\n",
        "print(\"Mod:\", mod)\n"
      ],
      "metadata": {
        "colab": {
          "base_uri": "https://localhost:8080/"
        },
        "id": "iSBcL9ATGibG",
        "outputId": "17ec8111-d763-4e4c-81fe-dfabc89e4746"
      },
      "execution_count": 1,
      "outputs": [
        {
          "output_type": "stream",
          "name": "stdout",
          "text": [
            "Mod: 8\n"
          ]
        }
      ]
    },
    {
      "cell_type": "code",
      "source": [
        "import statistics\n",
        "\n",
        "# Örnek veri seti\n",
        "veri_seti = [5, 8, 10, 12, 6, 9, 11, 14, 7, 8, 8]\n",
        "\n",
        "# Mod hesaplama\n",
        "mod = statistics.mode(veri_seti)\n",
        "\n",
        "print(\"Mod:\", mod)\n"
      ],
      "metadata": {
        "id": "WJZlqEx4tGpG"
      },
      "execution_count": null,
      "outputs": []
    },
    {
      "cell_type": "markdown",
      "source": [
        "# **Merkezi Eğilim Ölçütleri: Kartil**\n",
        "**Kartiller**, bir veri setini dört eşit parçaya bölen istatistiksel ölçütlerdir. Bir veri setini dört eşit parçaya böldüklerinden, \"çeyrekler\" olarak da adlandırılırlar. Kartiller, veri setinin dağılımını anlamak ve dört eşit parçaya ayırmak için kullanılır.\n",
        "\n",
        "Bir veri setindeki üç kartil bulunur:\n",
        "\n",
        "**1.İlk Kartil (Q1):** Veri setini sıralandığında alt çeyreği temsil eder. Yani, veri setinin en küçük değerinden başlayarak %25'lik bir dilimi ifade eder.\n",
        "\n",
        "**2.İkinci Kartil veya Medyan (Q2):** Veri setinin ortasını temsil eder. Yani, veri setini iki eşit parçaya böler. Eğer veri setinin eleman sayısı tek ise, medyan doğrudan ortadaki değerdir. Eğer eleman sayısı çift ise, medyan iki ortadaki değerin aritmetik ortalamasıdır.\n",
        "\n",
        "**3.Üçüncü Kartil (Q3):** Veri setini sıralandığında üst çeyreği temsil eder. Yani, veri setinin en büyük değerinden başlayarak %75'lik bir dilimi ifade eder.\n",
        "\n",
        "Kartiller, bir veri setinin dağılımını anlamak için kullanılır ve çeyrekler arası aralık gibi diğer istatistiksel ölçütlerin hesaplanmasına yardımcı olur. Ayrıca, kutu grafikleri gibi görselleştirmelerde de sıkça kullanılırlar.\n",
        "\n",
        "Python'da, NumPy kütüphanesi gibi birçok istatistiksel kütüphane, kartilleri hesaplamak için işlevler içerir. Örneğin, **np.percentile()** fonksiyonu NumPy'da kullanılarak kartiller hesaplanabilir.\n",
        "\n",
        "Başka bir alternatif olarak, numpy kütüphanesi yerine Python'ın yerleşik statistics modülünü kullanabiliriz. İşte aynı örneği statistics modülüyle gerçekleştiren bir örnek:\n"
      ],
      "metadata": {
        "id": "_6l-PqMCWnkj"
      }
    },
    {
      "cell_type": "code",
      "source": [
        "import numpy as np\n",
        "\n",
        "# Örnek veri seti\n",
        "veri_seti = [5, 8, 10, 12, 6, 9, 11, 14, 7, 8, 8, 20, 25, 22, 18]\n",
        "\n",
        "# Kartilleri hesaplama\n",
        "q1 = np.percentile(veri_seti, 25)  # İlk Kartil (Q1)\n",
        "medyan = np.percentile(veri_seti, 50)  # Medyan (Q2)\n",
        "q3 = np.percentile(veri_seti, 75)  # Üçüncü Kartil (Q3)\n",
        "\n",
        "print(\"İlk Kartil (Q1):\", q1)\n",
        "print(\"Medyan (Q2):\", medyan)\n",
        "print(\"Üçüncü Kartil (Q3):\", q3)\n"
      ],
      "metadata": {
        "colab": {
          "base_uri": "https://localhost:8080/"
        },
        "id": "3Wpdqi6dmD5h",
        "outputId": "ce12d10e-3e34-43df-b09e-c17973df90fc"
      },
      "execution_count": 11,
      "outputs": [
        {
          "output_type": "stream",
          "name": "stdout",
          "text": [
            "İlk Kartil (Q1): 8.0\n",
            "Medyan (Q2): 10.0\n",
            "Üçüncü Kartil (Q3): 16.0\n"
          ]
        }
      ]
    },
    {
      "cell_type": "code",
      "source": [
        "import statistics\n",
        "\n",
        "# Örnek veri seti\n",
        "veri_seti = [5, 8, 10, 12, 6, 9, 11, 14, 7, 8, 8, 20, 25, 22, 18]\n",
        "\n",
        "# Kartilleri hesaplama\n",
        "q1 = statistics.quantiles(veri_seti, n=4)[0]  # İlk Kartil (Q1)\n",
        "medyan = statistics.median(veri_seti)  # Medyan (Q2)\n",
        "q3 = statistics.quantiles(veri_seti, n=4)[2]  # Üçüncü Kartil (Q3)\n",
        "\n",
        "print(\"İlk Kartil (Q1):\", q1)\n",
        "print(\"Medyan (Q2):\", medyan)\n",
        "print(\"Üçüncü Kartil (Q3):\", q3)\n"
      ],
      "metadata": {
        "colab": {
          "base_uri": "https://localhost:8080/"
        },
        "id": "CXV7BG_HuYY1",
        "outputId": "6b0c869c-6713-43ee-9190-b5e200273688"
      },
      "execution_count": 3,
      "outputs": [
        {
          "output_type": "stream",
          "name": "stdout",
          "text": [
            "İlk Kartil (Q1): 8.0\n",
            "Medyan (Q2): 10\n",
            "Üçüncü Kartil (Q3): 18.0\n"
          ]
        }
      ]
    }
  ]
}